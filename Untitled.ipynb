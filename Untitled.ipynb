{
 "cells": [
  {
   "cell_type": "code",
   "execution_count": 4,
   "metadata": {},
   "outputs": [
    {
     "name": "stdout",
     "output_type": "stream",
     "text": [
      "[15, 19.0, 'CAR']\n"
     ]
    }
   ],
   "source": [
    "num=[]\n",
    "num.append(15)\n",
    "num.append(19.0)\n",
    "num.append(\"CAR\")\n",
    "print(num)"
   ]
  },
  {
   "cell_type": "code",
   "execution_count": 5,
   "metadata": {},
   "outputs": [
    {
     "name": "stdout",
     "output_type": "stream",
     "text": [
      "enterRAMANI\n",
      "@ RAMANI\n"
     ]
    }
   ],
   "source": [
    "n=input(\"enter\")\n",
    "print(\"@\",n)"
   ]
  },
  {
   "cell_type": "code",
   "execution_count": 7,
   "metadata": {},
   "outputs": [
    {
     "name": "stdout",
     "output_type": "stream",
     "text": [
      "enter n12\n",
      "enter n24\n",
      "Result 8\n"
     ]
    }
   ],
   "source": [
    "n1=int(input(\"enter n1\"))\n",
    "n2=int(input(\"enter n2\"))\n",
    "n3=n1*n2\n",
    "print(\"Result\",n3)"
   ]
  },
  {
   "cell_type": "code",
   "execution_count": 12,
   "metadata": {},
   "outputs": [
    {
     "name": "stdout",
     "output_type": "stream",
     "text": [
      "?Start execution\n",
      "?Stop execution\n"
     ]
    }
   ],
   "source": [
    "def ram ():\n",
    "    print(\"?Start execution\")\n",
    "    print(\"?Stop execution\")\n",
    "ram()\n"
   ]
  },
  {
   "cell_type": "code",
   "execution_count": 18,
   "metadata": {},
   "outputs": [
    {
     "ename": "SyntaxError",
     "evalue": "invalid syntax (<ipython-input-18-a824a6d5bbfd>, line 9)",
     "output_type": "error",
     "traceback": [
      "\u001b[0;36m  File \u001b[0;32m\"<ipython-input-18-a824a6d5bbfd>\"\u001b[0;36m, line \u001b[0;32m9\u001b[0m\n\u001b[0;31m    if __name__ == \"__vij__\"\u001b[0m\n\u001b[0m                            ^\u001b[0m\n\u001b[0;31mSyntaxError\u001b[0m\u001b[0;31m:\u001b[0m invalid syntax\n"
     ]
    }
   ],
   "source": [
    "def Ram():\n",
    "    n=int(input(\"Enter\"))\n",
    "    result=n\n",
    "    return result\n",
    "def Vij():\n",
    "    print(\"Get started\")\n",
    "    out=Ram()\n",
    "    print(out)\n",
    "    if __name__ == \"__vij__\"\n",
    "    Vij()\n",
    "    "
   ]
  },
  {
   "cell_type": "code",
   "execution_count": null,
   "metadata": {},
   "outputs": [],
   "source": []
  },
  {
   "cell_type": "code",
   "execution_count": null,
   "metadata": {},
   "outputs": [],
   "source": []
  }
 ],
 "metadata": {
  "kernelspec": {
   "display_name": "Python 3",
   "language": "python",
   "name": "python3"
  },
  "language_info": {
   "codemirror_mode": {
    "name": "ipython",
    "version": 3
   },
   "file_extension": ".py",
   "mimetype": "text/x-python",
   "name": "python",
   "nbconvert_exporter": "python",
   "pygments_lexer": "ipython3",
   "version": "3.8.10"
  }
 },
 "nbformat": 4,
 "nbformat_minor": 4
}
